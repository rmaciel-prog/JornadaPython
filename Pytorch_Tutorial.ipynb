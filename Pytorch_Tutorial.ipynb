{
  "nbformat": 4,
  "nbformat_minor": 0,
  "metadata": {
    "colab": {
      "name": "Pytorch Tutorial.ipynb",
      "provenance": [],
      "authorship_tag": "ABX9TyNS7/dzCyipZXwvwmEBQq7N",
      "include_colab_link": true
    },
    "kernelspec": {
      "name": "python3",
      "display_name": "Python 3"
    }
  },
  "cells": [
    {
      "cell_type": "markdown",
      "metadata": {
        "id": "view-in-github",
        "colab_type": "text"
      },
      "source": [
        "<a href=\"https://colab.research.google.com/github/rmaciel-prog/JornadaPython/blob/master/Pytorch_Tutorial.ipynb\" target=\"_parent\"><img src=\"https://colab.research.google.com/assets/colab-badge.svg\" alt=\"Open In Colab\"/></a>"
      ]
    },
    {
      "cell_type": "code",
      "metadata": {
        "id": "PTy0x3WlQ4pT",
        "colab_type": "code",
        "colab": {
          "base_uri": "https://localhost:8080/",
          "height": 489
        },
        "outputId": "c5e2ca0d-2250-4cfe-fd93-613347b11fae"
      },
      "source": [
        "import torch\n",
        "import torch.nn as nn\n",
        "import numpy as np\n",
        "import matplotlib.pyplot as plt\n",
        "\n",
        "\n",
        "# Hiperparametros\n",
        "tamanho_entrada = 1\n",
        "tamanho_saida = 1\n",
        "epocas = 60\n",
        "learning_rate = 0.001\n",
        "\n",
        "# Dados de exemplo\n",
        "x_train = np.array([[3.3], [4.4], [5.5], [6.71], [6.93], [4.168], \n",
        "                    [9.779], [6.182], [7.59], [2.167], [7.042], \n",
        "                    [10.791], [5.313], [7.997], [3.1]], dtype=np.float32)\n",
        "\n",
        "y_train = np.array([[1.7], [2.76], [2.09], [3.19], [1.694], [1.573], \n",
        "                    [3.366], [2.596], [2.53], [1.221], [2.827], \n",
        "                    [3.465], [1.65], [2.904], [1.3]], dtype=np.float32)\n",
        "\n",
        "# Modelo de Regressãão linear\n",
        "modelo = nn.Linear(tamanho_entrada, tamanho_saida)\n",
        "\n",
        "# Perda e otimizador\n",
        "criterio = nn.MSELoss()\n",
        "otimizador = torch.optim.SGD(modelo.parameters(), lr=learning_rate)  \n",
        "\n",
        "# Treinamento do modelo\n",
        "for epoca in range(epocas):\n",
        "    # Converte os arrays numpy em tensores pytorch\n",
        "    entradas = torch.from_numpy(x_train)\n",
        "    targets = torch.from_numpy(y_train)\n",
        "\n",
        "    # Foward na rede neural\n",
        "    saidas = model(entradas)\n",
        "    loss = criterio(saidas, targets)\n",
        "    \n",
        "    # Backwards na rede neural\n",
        "    otimizador.zero_grad()\n",
        "    loss.backward()\n",
        "    otimizador.step()\n",
        "    \n",
        "    if (epoca+1) % 5 == 0:\n",
        "        print ('Epoca [{}/{}], Perdas: {:.4f}'.format(epoca+1, epocas, loss.item()))\n",
        "\n",
        "# Imprime o grafico da regressão\n",
        "previsto = model(torch.from_numpy(x_train)).detach().numpy()\n",
        "plt.plot(x_train, y_train, 'ro', label='Dados Originais')\n",
        "plt.plot(x_train, previsto, label='Reta Ajustada')\n",
        "plt.title('Hello World - Pytorch')\n",
        "plt.legend()\n",
        "plt.show()\n",
        "\n"
      ],
      "execution_count": 17,
      "outputs": [
        {
          "output_type": "stream",
          "text": [
            "Epoca [5/60], Perdas: 0.4042\n",
            "Epoca [10/60], Perdas: 0.4042\n",
            "Epoca [15/60], Perdas: 0.4042\n",
            "Epoca [20/60], Perdas: 0.4042\n",
            "Epoca [25/60], Perdas: 0.4042\n",
            "Epoca [30/60], Perdas: 0.4042\n",
            "Epoca [35/60], Perdas: 0.4042\n",
            "Epoca [40/60], Perdas: 0.4042\n",
            "Epoca [45/60], Perdas: 0.4042\n",
            "Epoca [50/60], Perdas: 0.4042\n",
            "Epoca [55/60], Perdas: 0.4042\n",
            "Epoca [60/60], Perdas: 0.4042\n"
          ],
          "name": "stdout"
        },
        {
          "output_type": "display_data",
          "data": {
            "image/png": "[encoded data removed]",
            "text/plain": [
              "<Figure size 432x288 with 1 Axes>"
            ]
          },
          "metadata": {
            "tags": []
          }
        }
      ]
    }
  ]
}